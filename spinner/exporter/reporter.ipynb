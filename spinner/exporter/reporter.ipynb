{
 "cells": [
  {
   "cell_type": "code",
   "execution_count": null,
   "metadata": {},
   "outputs": [],
   "source": [
    "# Default locations if parameter not passed\n",
    "# benchmark_data_path = \"../../.././bench_metadata.pkl\"\n",
    "benchmark_data_path = \"/home/users/r176848/remy/spinner/bench_metadata.pkl\"\n",
    "output_folder = \"./output\""
   ]
  },
  {
   "cell_type": "code",
   "execution_count": null,
   "metadata": {},
   "outputs": [],
   "source": [
    "import pandas as pd\n",
    "import numpy as np\n",
    "import matplotlib.pyplot as plt\n",
    "import pickle\n",
    "from rich import print as rprint\n",
    "import seaborn as sns\n",
    "import os\n",
    "from scipy.stats import bootstrap\n",
    "\n",
    "benchmark_data = pickle.load(open(benchmark_data_path, \"rb\"))\n",
    "\n",
    "metadata = benchmark_data[\"metadata\"]\n",
    "df = pd.DataFrame(benchmark_data[\"dataframe\"])\n",
    "\n",
    "# create the output folder if it does not exist\n",
    "if not os.path.exists(output_folder):\n",
    "    os.makedirs(output_folder)\n",
    "\n",
    "\n",
    "rprint(df.columns)\n",
    "rprint(df.head())\n",
    "rprint(df.tail())"
   ]
  },
  {
   "cell_type": "code",
   "execution_count": null,
   "metadata": {},
   "outputs": [],
   "source": [
    "sns.set_theme()\n",
    "\n",
    "colors = [\n",
    "    \"#7f7f7f\",  # grey\n",
    "    \"#621dac\",  # main purple\n",
    "    \"#c5702d\",  # orange\n",
    "    \"#000000\",  # black,\n",
    "    \"#099892\",  # teal\n",
    "    \"#ffd400\",  # yellow\n",
    "    \"#7e57c4\",  # pink/purple,\n",
    "]\n",
    "colors_backup = colors.copy()"
   ]
  },
  {
   "cell_type": "code",
   "execution_count": null,
   "metadata": {},
   "outputs": [],
   "source": [
    "def calculate_bootstrap_error(data):\n",
    "    if metadata[\"runs\"] < 2:\n",
    "        return 0\n",
    "    res = bootstrap(\n",
    "        (data,), np.mean, confidence_level=0.95, n_resamples=1000, method=\"basic\"\n",
    "    )\n",
    "    return res.standard_error"
   ]
  },
  {
   "cell_type": "code",
   "execution_count": null,
   "metadata": {},
   "outputs": [],
   "source": [
    "bench_names = df[\"name\"].unique()\n",
    "\n",
    "for bench in bench_names:\n",
    "    for plot_setup in metadata[bench][\"plot_axis\"]:\n",
    "        bench_df = df[df[\"name\"] == bench].copy()\n",
    "\n",
    "        y_ax = plot_setup[\"y_axis\"]\n",
    "        x_ax = plot_setup[\"x_axis\"]\n",
    "        group_by = plot_setup[\"group_by\"]\n",
    "        title = plot_setup[\"title\"]\n",
    "        n_runs = metadata[\"runs\"]\n",
    "\n",
    "        # make sure Y axis is numeric\n",
    "        bench_df[y_ax] = pd.to_numeric(bench_df[y_ax])\n",
    "        columns_with_nan = bench_df.columns[bench_df.isna().any()].tolist()\n",
    "\n",
    "        # Drop columns with NaN\n",
    "        bench_df = bench_df.drop(columns=columns_with_nan)\n",
    "        bench_df = bench_df.loc[:, ~bench_df.columns.duplicated()]\n",
    "\n",
    "        # Group by and calculate mean and bootstrap error\n",
    "        grouped = (\n",
    "            bench_df.groupby(group_by)[y_ax]\n",
    "            .agg([\"mean\", calculate_bootstrap_error])\n",
    "            .reset_index()\n",
    "        )\n",
    "\n",
    "        rprint(grouped)\n",
    "        # plt.figure(figsize=(3.3, 2.4))\n",
    "\n",
    "        plt.errorbar(\n",
    "            grouped[x_ax],\n",
    "            grouped[\"mean\"],\n",
    "            yerr=grouped[\"calculate_bootstrap_error\"],\n",
    "            fmt=\"o-\",\n",
    "            capsize=5,\n",
    "            label=f\"{bench}-{y_ax}\",\n",
    "        )\n",
    "\n",
    "        plt.xlabel(x_ax)\n",
    "        plt.xticks(grouped[x_ax])\n",
    "        plt.ylabel(y_ax)\n",
    "        plt.grid(True)\n",
    "        plt.legend()\n",
    "\n",
    "        plt.title(f\"{title} | {n_runs} runs\")\n",
    "        plt.savefig(f\"{output_folder}/{bench}_{y_ax}_{x_ax}.pdf\")\n",
    "\n",
    "    # plt.tight_layout()\n",
    "    plt.savefig(f\"{output_folder}/{bench}_{y_ax}_{x_ax}-GROUPED.pdf\")\n",
    "    plt.show()"
   ]
  }
 ],
 "metadata": {
  "kernelspec": {
   "display_name": ".venv",
   "language": "python",
   "name": "python3"
  },
  "language_info": {
   "codemirror_mode": {
    "name": "ipython",
    "version": 3
   },
   "file_extension": ".py",
   "mimetype": "text/x-python",
   "name": "python",
   "nbconvert_exporter": "python",
   "pygments_lexer": "ipython3",
   "version": "3.11.7"
  }
 },
 "nbformat": 4,
 "nbformat_minor": 2
}
