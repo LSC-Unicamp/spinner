{
 "cells": [
  {
   "cell_type": "code",
   "execution_count": null,
   "metadata": {},
   "outputs": [],
   "source": [
    "import pandas as pd\n",
    "import numpy as np\n",
    "import matplotlib.pyplot as plt\n",
    "import pickle\n",
    "from rich import print as rprint\n",
    "import seaborn as sns\n",
    "import os\n",
    "from scipy.stats import bootstrap\n",
    "\n",
    "# Check if we are on root directory\n",
    "if \"bench_metadata.pkl\" in os.listdir():\n",
    "    benchmark_data = pickle.load(open(\"./bench_metadata.pkl\", \"rb\"))\n",
    "else:\n",
    "    benchmark_data = pickle.load(open(\"../bench_metadata.pkl\", \"rb\"))\n",
    "\n",
    "metadata = benchmark_data[\"metadata\"]\n",
    "df = pd.DataFrame(benchmark_data[\"dataframe\"])\n",
    "\n",
    "rprint(df.head())\n",
    "rprint(df.tail())"
   ]
  },
  {
   "cell_type": "code",
   "execution_count": null,
   "metadata": {},
   "outputs": [],
   "source": [
    "sns.set_theme()\n",
    "\n",
    "colors = [\n",
    "    \"#7f7f7f\",  # grey\n",
    "    \"#621dac\",  # main purple\n",
    "    \"#c5702d\",  # orange\n",
    "    \"#000000\",  # black,\n",
    "    \"#099892\",  # teal\n",
    "    \"#ffd400\",  # yellow\n",
    "    \"#7e57c4\",  # pink/purple,\n",
    "]"
   ]
  },
  {
   "cell_type": "code",
   "execution_count": null,
   "metadata": {},
   "outputs": [],
   "source": [
    "def calculate_bootstrap_error(data):\n",
    "    res = bootstrap(\n",
    "        (data,), np.mean, confidence_level=0.95, n_resamples=1000, method=\"basic\"\n",
    "    )\n",
    "    return res.standard_error"
   ]
  },
  {
   "cell_type": "code",
   "execution_count": null,
   "metadata": {},
   "outputs": [],
   "source": [
    "mpi_io_df = df[df[\"name\"] == \"mpi-io\"].copy()\n",
    "mpi_io_df[\"time\"] = pd.to_numeric(mpi_io_df[\"time\"])\n",
    "columns_with_nan = mpi_io_df.columns[mpi_io_df.isna().any()].tolist()\n",
    "mpi_io_df = mpi_io_df.drop(columns=columns_with_nan)\n",
    "mpi_io_df = mpi_io_df.loc[:, ~mpi_io_df.columns.duplicated()]\n",
    "\n",
    "\n",
    "grouped = (\n",
    "    mpi_io_df.groupby([\"read_step\", \"nodes\"])[\"time\"]\n",
    "    .agg([\"mean\", calculate_bootstrap_error])\n",
    "    .reset_index()\n",
    ")\n",
    "grouped = grouped.rename(\n",
    "    columns={\"mean\": \"time_mean\", \"calculate_bootstrap_error\": \"bootstrap_error\"}\n",
    ")\n",
    "\n",
    "rprint(grouped)\n",
    "\n",
    "\n",
    "plt.figure(figsize=(10, 6))\n",
    "grouped = grouped.groupby(\"nodes\")\n",
    "# Map each node value to a color\n",
    "unique_nodes = df[\"nodes\"].unique()\n",
    "color_dict = {node: colors[i % len(colors)] for i, node in enumerate(unique_nodes)}\n",
    "\n",
    "for name, group in grouped:\n",
    "    plt.errorbar(\n",
    "        group[\"read_step\"],\n",
    "        group[\"time_mean\"],\n",
    "        yerr=group[\"bootstrap_error\"],\n",
    "        fmt=\"o-\",\n",
    "        capsize=5,\n",
    "        label=f\"{name} nodes\",\n",
    "        color=color_dict[name]\n",
    "    )\n",
    "plt.xlabel(\"Read Step (Byte)\")\n",
    "plt.ylabel(\"Mean Time (s)\")\n",
    "# set to log X axis\n",
    "plt.xscale(\"log\")\n",
    "plt.title(\"Mean time per read step | MPI-IO | Errorbar: bootstrap\")\n",
    "plt.legend()\n",
    "plt.grid(True)\n",
    "plt.show()"
   ]
  },
  {
   "cell_type": "code",
   "execution_count": null,
   "metadata": {},
   "outputs": [],
   "source": []
  }
 ],
 "metadata": {
  "kernelspec": {
   "display_name": ".venv",
   "language": "python",
   "name": "python3"
  },
  "language_info": {
   "codemirror_mode": {
    "name": "ipython",
    "version": 3
   },
   "file_extension": ".py",
   "mimetype": "text/x-python",
   "name": "python",
   "nbconvert_exporter": "python",
   "pygments_lexer": "ipython3",
   "version": "3.9.12"
  }
 },
 "nbformat": 4,
 "nbformat_minor": 2
}
